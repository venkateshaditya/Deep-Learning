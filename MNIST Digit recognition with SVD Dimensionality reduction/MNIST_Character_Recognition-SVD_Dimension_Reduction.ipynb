{
  "nbformat": 4,
  "nbformat_minor": 0,
  "metadata": {
    "colab": {
      "name": "MNIST_Character_Recognition.ipynb",
      "version": "0.3.2",
      "provenance": [],
      "collapsed_sections": []
    },
    "kernelspec": {
      "name": "python3",
      "display_name": "Python 3"
    },
    "accelerator": "GPU"
  },
  "cells": [
    {
      "metadata": {
        "id": "CzxFiEoV4mUS",
        "colab_type": "code",
        "colab": {}
      },
      "cell_type": "code",
      "source": [
        "import tensorflow as tf\n",
        "import pandas as pd\n",
        "import numpy as np\n",
        "import matplotlib.pyplot as plt\n",
        "from tensorflow.examples.tutorials.mnist import input_data\n",
        "from sklearn.decomposition import PCA\n",
        "from sklearn.manifold import TSNE\n",
        "from matplotlib.text import TextPath"
      ],
      "execution_count": 0,
      "outputs": []
    },
    {
      "metadata": {
        "id": "e9cMahD_4q2b",
        "colab_type": "code",
        "outputId": "758e112e-15a6-4aec-f367-15272b31245b",
        "colab": {
          "base_uri": "https://localhost:8080/",
          "height": 83
        }
      },
      "cell_type": "code",
      "source": [
        "mnist = input_data.read_data_sets('MNIST_data', one_hot=True)"
      ],
      "execution_count": 3,
      "outputs": [
        {
          "output_type": "stream",
          "text": [
            "Extracting MNIST_data/train-images-idx3-ubyte.gz\n",
            "Extracting MNIST_data/train-labels-idx1-ubyte.gz\n",
            "Extracting MNIST_data/t10k-images-idx3-ubyte.gz\n",
            "Extracting MNIST_data/t10k-labels-idx1-ubyte.gz\n"
          ],
          "name": "stdout"
        }
      ]
    },
    {
      "metadata": {
        "id": "7aFdNu4O4wzX",
        "colab_type": "code",
        "outputId": "388e63bd-933f-4de6-a161-7f232fd5195a",
        "colab": {
          "base_uri": "https://localhost:8080/",
          "height": 86
        }
      },
      "cell_type": "code",
      "source": [
        "x = tf.placeholder(tf.float32, [None, 784])\n",
        "y = tf.placeholder(tf.float32, [None, 10])\n",
        "\n",
        "W1 = tf.Variable(tf.random_normal([784, 1024], stddev=0.03), name='W1')\n",
        "b1 = tf.Variable(tf.random_normal([1024]), name='b1')\n",
        "W2 = tf.Variable(tf.random_normal([1024, 1024], stddev=0.03), name='W2')\n",
        "b2 = tf.Variable(tf.random_normal([1024]), name='b2')\n",
        "W3 = tf.Variable(tf.random_normal([1024, 1024], stddev=0.03), name='W3')\n",
        "b3 = tf.Variable(tf.random_normal([1024]), name='b3')\n",
        "W4 = tf.Variable(tf.random_normal([1024, 1024], stddev=0.03), name='W4')\n",
        "b4 = tf.Variable(tf.random_normal([1024]), name='b4')\n",
        "W5 = tf.Variable(tf.random_normal([1024, 1024], stddev=0.03), name='W5')\n",
        "b5 = tf.Variable(tf.random_normal([1024]), name='b5')\n",
        "W7 = tf.Variable(tf.random_normal([1024, 10], stddev=0.03), name='W7')\n",
        "b7 = tf.Variable(tf.random_normal([10]), name='b7')\n",
        "\n",
        "\n",
        "L1 = tf.nn.relu(tf.add(tf.matmul(x, W1), b1))\n",
        "L2 = tf.nn.relu(tf.add(tf.matmul(L1, W2), b2))\n",
        "L3 = tf.nn.relu(tf.add(tf.matmul(L2, W3), b3))\n",
        "L4 = tf.nn.relu(tf.add(tf.matmul(L3, W4), b4))\n",
        "L5 = tf.nn.relu(tf.add(tf.matmul(L4, W5), b5))\n",
        "Y = tf.nn.softmax(tf.add(tf.matmul(L5, W7), b7))"
      ],
      "execution_count": 4,
      "outputs": [
        {
          "output_type": "stream",
          "text": [
            "WARNING:tensorflow:From /usr/local/lib/python3.6/dist-packages/tensorflow/python/framework/op_def_library.py:263: colocate_with (from tensorflow.python.framework.ops) is deprecated and will be removed in a future version.\n",
            "Instructions for updating:\n",
            "Colocations handled automatically by placer.\n"
          ],
          "name": "stdout"
        }
      ]
    },
    {
      "metadata": {
        "id": "vzFBVa3A4xr8",
        "colab_type": "code",
        "outputId": "46c6682e-b449-4142-ede7-e88e813a0857",
        "colab": {
          "base_uri": "https://localhost:8080/",
          "height": 86
        }
      },
      "cell_type": "code",
      "source": [
        "y_clipped = tf.clip_by_value(Y, 1e-10, 0.9999999)\n",
        "cross_entropy = -tf.reduce_mean(tf.reduce_sum(y * tf.log(y_clipped)\n",
        "                         + (1 - y) * tf.log(1 - y_clipped), axis=1))\n",
        "optimiser = tf.train.GradientDescentOptimizer(learning_rate=0.005).minimize(cross_entropy)"
      ],
      "execution_count": 5,
      "outputs": [
        {
          "output_type": "stream",
          "text": [
            "WARNING:tensorflow:From /usr/local/lib/python3.6/dist-packages/tensorflow/python/ops/math_ops.py:3066: to_int32 (from tensorflow.python.ops.math_ops) is deprecated and will be removed in a future version.\n",
            "Instructions for updating:\n",
            "Use tf.cast instead.\n"
          ],
          "name": "stdout"
        }
      ]
    },
    {
      "metadata": {
        "id": "fGZcynX74z1w",
        "colab_type": "code",
        "colab": {}
      },
      "cell_type": "code",
      "source": [
        "correct_prediction = tf.equal(tf.argmax(y, 1), tf.argmax(Y, 1))\n",
        "accuracy = tf.reduce_mean(tf.cast(correct_prediction, tf.float32))"
      ],
      "execution_count": 0,
      "outputs": []
    },
    {
      "metadata": {
        "id": "94lcruUfYadb",
        "colab_type": "code",
        "colab": {}
      },
      "cell_type": "code",
      "source": [
        "images,labels=mnist.test.next_batch(batch_size=1000)"
      ],
      "execution_count": 0,
      "outputs": []
    },
    {
      "metadata": {
        "id": "B5uHubKALHeM",
        "colab_type": "text"
      },
      "cell_type": "markdown",
      "source": [
        "# **Model Training**"
      ]
    },
    {
      "metadata": {
        "id": "eVqbagVp41rH",
        "colab_type": "code",
        "outputId": "6304b165-2995-48d3-9021-bb9c9d422ffb",
        "colab": {
          "base_uri": "https://localhost:8080/",
          "height": 300
        }
      },
      "cell_type": "code",
      "source": [
        "learning_rate = 0.01\n",
        "epochs = 150\n",
        "batch_size = 100\n",
        "optimiser = tf.train.GradientDescentOptimizer(learning_rate=learning_rate).minimize(cross_entropy)\n",
        "\n",
        "sess=tf.Session()\n",
        "# initialise the variables\n",
        "init_op = tf.global_variables_initializer()\n",
        "sess.run(init_op)\n",
        "total_batch = int(len(mnist.train.labels) / batch_size)\n",
        "for epoch in range(epochs):\n",
        "    avg_cost = 0\n",
        "    for i in range(total_batch):\n",
        "        batch_x, batch_y = mnist.train.next_batch(batch_size=batch_size)\n",
        "        _ , c = sess.run([optimiser, cross_entropy], feed_dict={x: batch_x, y: batch_y})\n",
        "        avg_cost += c / total_batch\n",
        "    if(epoch==0 or (epoch+1)%10==0):\n",
        "        print(\"Epoch:\", (epoch + 1), \"cost =\", \"{:.3f}\".format(avg_cost))\n",
        "    if(epoch>=50 and epoch%20==0):\n",
        "      learning_rate=learning_rate/2\n",
        "      optimiser = tf.train.GradientDescentOptimizer(learning_rate=learning_rate).minimize(cross_entropy)\n",
        "    #print(sess.run(accuracy, feed_dict={x: mnist.test.images, y: mnist.test.labels}))\n",
        "print(\"Test Accuracy: \",sess.run(accuracy, feed_dict={x: mnist.test.images, y: mnist.test.labels}))\n",
        "\n",
        "#output_layer,H5,H4,H3,H2,H1=sess.run([Y,L5,L4,L3,L2,L1], feed_dict={x: images})\n",
        "\n",
        "trainable_variables=sess.run(tf.trainable_variables())"
      ],
      "execution_count": 8,
      "outputs": [
        {
          "output_type": "stream",
          "text": [
            "Epoch: 1 cost = 2.185\n",
            "Epoch: 10 cost = 0.297\n",
            "Epoch: 20 cost = 0.162\n",
            "Epoch: 30 cost = 0.098\n",
            "Epoch: 40 cost = 0.057\n",
            "Epoch: 50 cost = 0.031\n",
            "Epoch: 60 cost = 0.015\n",
            "Epoch: 70 cost = 0.008\n",
            "Epoch: 80 cost = 0.006\n",
            "Epoch: 90 cost = 0.005\n",
            "Epoch: 100 cost = 0.004\n",
            "Epoch: 110 cost = 0.004\n",
            "Epoch: 120 cost = 0.004\n",
            "Epoch: 130 cost = 0.003\n",
            "Epoch: 140 cost = 0.003\n",
            "Epoch: 150 cost = 0.003\n",
            "Test Accuracy:  0.9804\n"
          ],
          "name": "stdout"
        }
      ]
    },
    {
      "metadata": {
        "id": "qEdiPw5gKyRu",
        "colab_type": "text"
      },
      "cell_type": "markdown",
      "source": [
        "# **Computing Model Accuracy with Compressed Weights**"
      ]
    },
    {
      "metadata": {
        "id": "z62eYeV5J8NU",
        "colab_type": "code",
        "colab": {}
      },
      "cell_type": "code",
      "source": [
        "wt1 , bi1,wt2,bi2,wt3,bi3,wt4,bi4,wt5,bi5,op_wt,op_bi =[x for x in trainable_variables[:12]]\n",
        "tf.reset_default_graph()\n",
        "s1,u1,v1=tf.svd(wt1)\n",
        "s2,u2,v2=tf.svd(wt2)\n",
        "s3,u3,v3=tf.svd(wt3)\n",
        "s4,u4,v4=tf.svd(wt4)\n",
        "s5,u5,v5=tf.svd(wt5)\n"
      ],
      "execution_count": 0,
      "outputs": []
    },
    {
      "metadata": {
        "id": "aiQcfLyah_un",
        "colab_type": "code",
        "colab": {}
      },
      "cell_type": "code",
      "source": [
        "sess=tf.Session()\n",
        "init_op = tf.global_variables_initializer()\n",
        "sess.run(init_op)"
      ],
      "execution_count": 0,
      "outputs": []
    },
    {
      "metadata": {
        "id": "sKiBcMetKrOj",
        "colab_type": "code",
        "colab": {}
      },
      "cell_type": "code",
      "source": [
        "x = tf.placeholder(tf.float32, [None, 784])\n",
        "y = tf.placeholder(tf.float32, [None, 10])\n",
        "N=tf.placeholder(tf.int32,shape=(),name='N')\n",
        "\n",
        "L1 = tf.nn.relu(tf.add(tf.matmul(x,  tf.matmul(tf.matmul(u1[:,:N],tf.diag(s1)[:N,:N]),tf.transpose(v1[:,:N]))), bi1))\n",
        "L2 = tf.nn.relu(tf.add(tf.matmul(L1, tf.matmul(tf.matmul(u2[:,:N],tf.diag(s2)[:N,:N]),tf.transpose(v2[:,:N]))), bi2))\n",
        "L3 = tf.nn.relu(tf.add(tf.matmul(L2, tf.matmul(tf.matmul(u3[:,:N],tf.diag(s3)[:N,:N]),tf.transpose(v3[:,:N]))), bi3))\n",
        "L4 = tf.nn.relu(tf.add(tf.matmul(L3, tf.matmul(tf.matmul(u4[:,:N],tf.diag(s4)[:N,:N]),tf.transpose(v4[:,:N]))), bi4))\n",
        "L5 = tf.nn.relu(tf.add(tf.matmul(L4, tf.matmul(tf.matmul(u5[:,:N],tf.diag(s5)[:N,:N]),tf.transpose(v5[:,:N]))), bi5))\n",
        "Y = tf.nn.softmax(tf.add(tf.matmul(L5, op_wt), op_bi))\n",
        "\n",
        "correct_prediction = tf.equal(tf.argmax(y, 1), tf.argmax(Y, 1))\n",
        "accuracy = tf.reduce_mean(tf.cast(correct_prediction, tf.float32))"
      ],
      "execution_count": 0,
      "outputs": []
    },
    {
      "metadata": {
        "id": "kBGGR-J5LYIW",
        "colab_type": "code",
        "colab": {
          "base_uri": "https://localhost:8080/",
          "height": 133
        },
        "outputId": "2d8c5aed-cd63-4e81-db9d-3d08a6fcc220"
      },
      "cell_type": "code",
      "source": [
        "D = [0,10, 20, 50, 100, 200, 784]\n",
        "acc = []\n",
        "\n",
        "for i in range(len(D)):\n",
        "    acc.append(sess.run(accuracy, feed_dict={x: mnist.test.images, y: mnist.test.labels,N:D[i]}))\n",
        "    print(\"Dimension:\",D[i],\"Accuracy:\",acc[-1])\n",
        "sess.close()"
      ],
      "execution_count": 28,
      "outputs": [
        {
          "output_type": "stream",
          "text": [
            "Dimension: 0 Accuracy: 0.0974\n",
            "Dimension: 10 Accuracy: 0.1498\n",
            "Dimension: 20 Accuracy: 0.5149\n",
            "Dimension: 50 Accuracy: 0.7693\n",
            "Dimension: 100 Accuracy: 0.8623\n",
            "Dimension: 200 Accuracy: 0.9657\n",
            "Dimension: 784 Accuracy: 0.9805\n"
          ],
          "name": "stdout"
        }
      ]
    },
    {
      "metadata": {
        "id": "Iy68ZKgBLYCl",
        "colab_type": "code",
        "colab": {
          "base_uri": "https://localhost:8080/",
          "height": 361
        },
        "outputId": "7084a326-222b-4a99-f8d3-c23a94c21c7f"
      },
      "cell_type": "code",
      "source": [
        "plt.plot(D, acc)\n",
        "plt.xlabel('Dimensions')\n",
        "plt.ylabel('Accuracy')\n",
        "plt.show()"
      ],
      "execution_count": 25,
      "outputs": [
        {
          "output_type": "display_data",
          "data": {
            "image/png": "[encoded data removed]",
            "text/plain": [
              "<Figure size 576x396 with 1 Axes>"
            ]
          },
          "metadata": {
            "tags": []
          }
        }
      ]
    },
    {
      "metadata": {
        "id": "24Opj-UQLOlo",
        "colab_type": "text"
      },
      "cell_type": "markdown",
      "source": [
        "# **Training Model with Pre-initialized weights**"
      ]
    },
    {
      "metadata": {
        "id": "pxI8epko_H-_",
        "colab_type": "code",
        "colab": {}
      },
      "cell_type": "code",
      "source": [
        "tf.reset_default_graph()\n",
        "s1,u1,v1=tf.svd(wt1)\n",
        "s2,u2,v2=tf.svd(wt2)\n",
        "s3,u3,v3=tf.svd(wt3)\n",
        "s4,u4,v4=tf.svd(wt4)\n",
        "s5,u5,v5=tf.svd(wt5)"
      ],
      "execution_count": 0,
      "outputs": []
    },
    {
      "metadata": {
        "id": "P73Vq9-c_O2y",
        "colab_type": "code",
        "colab": {}
      },
      "cell_type": "code",
      "source": [
        "x = tf.placeholder(tf.float32, [None, 784])\n",
        "y = tf.placeholder(tf.float32, [None, 10])\n",
        "\n",
        "V1=tf.Variable(tf.matmul(tf.diag(s1)[:20,:20],tf.transpose(v1[:,:20])), name='V1')\n",
        "V2=tf.Variable(tf.matmul(tf.diag(s2)[:20,:20],tf.transpose(v2[:,:20])), name='V2')\t\t\t\t\n",
        "V3=tf.Variable(tf.matmul(tf.diag(s3)[:20,:20],tf.transpose(v3[:,:20])), name='V3')\t\t\t\t\n",
        "V4=tf.Variable(tf.matmul(tf.diag(s4)[:20,:20],tf.transpose(v4[:,:20])), name='V4')\t\t\t\t\n",
        "V5=tf.Variable(tf.matmul(tf.diag(s5)[:20,:20],tf.transpose(v5[:,:20])), name='V5')\t\n",
        "\n",
        "U1=tf.Variable(u1[:,:20], name='U1')\n",
        "U2=tf.Variable(u2[:,:20], name='U2')\t\t\t\t\n",
        "U3=tf.Variable(u3[:,:20], name='U3')\t\t\t\t\n",
        "U4=tf.Variable(u4[:,:20], name='U4')\t\t\t\t\n",
        "U5=tf.Variable(u5[:,:20], name='U5')\n",
        "\n",
        "W7 = tf.Variable(op_wt, name='W7')\n",
        "\n",
        "b1 = tf.Variable(bi1, name='b1')\n",
        "b2 = tf.Variable(bi2, name='b2')\n",
        "b3 = tf.Variable(bi3, name='b3')\n",
        "b4 = tf.Variable(bi4, name='b4')\n",
        "b5 = tf.Variable(bi5, name='b5')\n",
        "b7 = tf.Variable(op_bi, name='b7')\n",
        "\n",
        "\n",
        "L1 = tf.nn.relu(tf.add(tf.matmul(x,  tf.matmul(U1,V1)), b1) )\n",
        "L2 = tf.nn.relu(tf.add(tf.matmul(L1, tf.matmul(U2,V2)), b2) )\n",
        "L3 = tf.nn.relu(tf.add(tf.matmul(L2, tf.matmul(U3,V3)), b3) )\n",
        "L4 = tf.nn.relu(tf.add(tf.matmul(L3, tf.matmul(U4,V4)), b4) )\n",
        "L5 = tf.nn.relu(tf.add(tf.matmul(L4, tf.matmul(U5,V5)), b5) )\n",
        "Y = tf.nn.softmax(tf.add(tf.matmul(L5, W7), b7))\n",
        "\n",
        "\n",
        "correct_prediction = tf.equal(tf.argmax(y, 1), tf.argmax(Y, 1))\n",
        "accuracy = tf.reduce_mean(tf.cast(correct_prediction, tf.float32))\n",
        "\n",
        "y_clipped = tf.clip_by_value(Y, 1e-10, 0.9999999)\n",
        "cross_entropy = -tf.reduce_mean(tf.reduce_sum(y * tf.log(y_clipped)\n",
        "                         + (1 - y) * tf.log(1 - y_clipped), axis=1))\n",
        "optimiser = tf.train.GradientDescentOptimizer(learning_rate=0.005).minimize(cross_entropy)"
      ],
      "execution_count": 0,
      "outputs": []
    },
    {
      "metadata": {
        "id": "gDOV-C3t_ALW",
        "colab_type": "code",
        "colab": {
          "base_uri": "https://localhost:8080/",
          "height": 83
        },
        "outputId": "3ca279c4-f6a4-41cb-bcbd-4024d4221ce0"
      },
      "cell_type": "code",
      "source": [
        "mnist = input_data.read_data_sets('MNIST_data', one_hot=True)"
      ],
      "execution_count": 40,
      "outputs": [
        {
          "output_type": "stream",
          "text": [
            "Extracting MNIST_data/train-images-idx3-ubyte.gz\n",
            "Extracting MNIST_data/train-labels-idx1-ubyte.gz\n",
            "Extracting MNIST_data/t10k-images-idx3-ubyte.gz\n",
            "Extracting MNIST_data/t10k-labels-idx1-ubyte.gz\n"
          ],
          "name": "stdout"
        }
      ]
    },
    {
      "metadata": {
        "id": "9gW3kNfG_NxS",
        "colab_type": "code",
        "colab": {
          "base_uri": "https://localhost:8080/",
          "height": 116
        },
        "outputId": "4c655c8d-4c0b-4a91-a967-77cde223a86e"
      },
      "cell_type": "code",
      "source": [
        "learning_rate = 0.0001\n",
        "epochs = 20\n",
        "batch_size = 100\n",
        "optimiser = tf.train.GradientDescentOptimizer(learning_rate=learning_rate).minimize(cross_entropy)\n",
        "\n",
        "sess=tf.Session()\n",
        "# initialise the variables\n",
        "init_op = tf.global_variables_initializer()\n",
        "sess.run(init_op)\n",
        "total_batch = int(len(mnist.train.labels) / batch_size)\n",
        "for epoch in range(epochs):\n",
        "    avg_cost = 0\n",
        "    for i in range(total_batch):\n",
        "        batch_x, batch_y = mnist.train.next_batch(batch_size=batch_size)\n",
        "        _ , c = sess.run([optimiser, cross_entropy], feed_dict={x: batch_x, y: batch_y})\n",
        "        avg_cost += c / total_batch\n",
        "    if(epoch==0 or (epoch+1)%5==0):\n",
        "        print(\"Epoch:\", (epoch + 1), \"cost =\", \"{:.3f}\".format(avg_cost))\n",
        "    #print(sess.run(accuracy, feed_dict={x: mnist.test.images, y: mnist.test.labels}))\n",
        "print(\"Test Accuracy: \",sess.run(accuracy, feed_dict={x: mnist.test.images, y: mnist.test.labels}))"
      ],
      "execution_count": 52,
      "outputs": [
        {
          "output_type": "stream",
          "text": [
            "Epoch: 1 cost = 0.414\n",
            "Epoch: 5 cost = 0.255\n",
            "Epoch: 10 cost = 0.221\n",
            "Epoch: 15 cost = 0.205\n",
            "Epoch: 20 cost = 0.191\n",
            "Test Accuracy:  0.9633\n"
          ],
          "name": "stdout"
        }
      ]
    },
    {
      "metadata": {
        "id": "96tenr0NFaZq",
        "colab_type": "code",
        "colab": {}
      },
      "cell_type": "code",
      "source": [
        ""
      ],
      "execution_count": 0,
      "outputs": []
    }
  ]
}