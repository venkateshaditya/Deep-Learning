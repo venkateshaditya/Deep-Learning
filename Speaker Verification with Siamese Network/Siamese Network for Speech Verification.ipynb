{
  "nbformat": 4,
  "nbformat_minor": 0,
  "metadata": {
    "colab": {
      "name": "question4.1.ipynb",
      "version": "0.3.2",
      "provenance": [],
      "collapsed_sections": []
    },
    "kernelspec": {
      "name": "python3",
      "display_name": "Python 3"
    },
    "accelerator": "GPU"
  },
  "cells": [
    {
      "metadata": {
        "id": "fstiVk0fvm8l",
        "colab_type": "code",
        "colab": {}
      },
      "cell_type": "code",
      "source": [
        "import tensorflow as tf\n",
        "import librosa\n",
        "import pandas as pd\n",
        "import numpy as np\n",
        "import math\n",
        "import pickle\n",
        "from random import choice, randint"
      ],
      "execution_count": 0,
      "outputs": []
    },
    {
      "metadata": {
        "id": "B0cTLFXkiPyG",
        "colab_type": "text"
      },
      "cell_type": "markdown",
      "source": [
        "# Loading Audio Data"
      ]
    },
    {
      "metadata": {
        "id": "N7hd0ATMo2_l",
        "colab_type": "code",
        "outputId": "77701ab7-970b-42f9-9e12-e33b432cda0c",
        "colab": {
          "base_uri": "https://localhost:8080/",
          "height": 35
        }
      },
      "cell_type": "code",
      "source": [
        "with open('hw4_trs.pkl', 'rb') as f:\n",
        "    data = pickle.load(f)\n",
        "\n",
        "trn_rows = data.shape[0]\n",
        "col = data.shape[1]\n",
        "\n",
        "data_inter = []\n",
        "for i in range(len(data)):\n",
        "  data_inter.append(np.transpose(np.abs(librosa.stft(data[i], n_fft=1024, hop_length=512))))\n",
        "data_inter = np.asarray(data_inter)\n",
        "\n",
        "data_stft=np.pad(data_inter, ((0,0),(0,13), (0,0)), 'constant')\n",
        "print(data_stft.shape)"
      ],
      "execution_count": 0,
      "outputs": [
        {
          "output_type": "stream",
          "text": [
            "(500, 45, 513)\n"
          ],
          "name": "stdout"
        }
      ]
    },
    {
      "metadata": {
        "id": "VYxYB7gwp7mU",
        "colab_type": "code",
        "outputId": "a93902c9-7452-4edd-cb12-2ad75d179b16",
        "colab": {
          "base_uri": "https://localhost:8080/",
          "height": 35
        }
      },
      "cell_type": "code",
      "source": [
        "with open('hw4_tes.pkl', 'rb') as f:\n",
        "    data_test = pickle.load(f)\n",
        "\n",
        "tes_rows = data_test.shape[0]\n",
        "\n",
        "data_tes_stft = []\n",
        "for i in range(len(data_test)):\n",
        "  data_tes_stft.append(np.transpose(np.abs(librosa.stft(data_test[i], n_fft=1024, hop_length=512))))\n",
        "data_tes_stft = np.asarray(data_tes_stft)\n",
        "\n",
        "print(data_tes_stft.shape)"
      ],
      "execution_count": 0,
      "outputs": [
        {
          "output_type": "stream",
          "text": [
            "(200, 45, 513)\n"
          ],
          "name": "stdout"
        }
      ]
    },
    {
      "metadata": {
        "id": "uDk-ssUX5Nrs",
        "colab_type": "code",
        "outputId": "144e9f5f-1fe3-4a76-fd0a-ae7a924af821",
        "colab": {
          "base_uri": "https://localhost:8080/",
          "height": 35
        }
      },
      "cell_type": "code",
      "source": [
        "tes_rows"
      ],
      "execution_count": 0,
      "outputs": [
        {
          "output_type": "execute_result",
          "data": {
            "text/plain": [
              "200"
            ]
          },
          "metadata": {
            "tags": []
          },
          "execution_count": 4
        }
      ]
    },
    {
      "metadata": {
        "id": "bVWrKcGpibYH",
        "colab_type": "text"
      },
      "cell_type": "markdown",
      "source": [
        "# Creating Train Data - Positive and Negative Pairs"
      ]
    },
    {
      "metadata": {
        "id": "UMmmHNZmxWhK",
        "colab_type": "code",
        "colab": {}
      },
      "cell_type": "code",
      "source": [
        "def data_prep(data_stft, rows):\n",
        "  train_pairs = []\n",
        "  train_labels = []\n",
        "  L = 20\n",
        "  interval = 10\n",
        "  row_range = rows - interval +1\n",
        "  for i in range(0, row_range, interval):\n",
        "    temp = []\n",
        "    label_temp = []\n",
        "    for j in range(L):\n",
        "      temp.append([data_stft[randint(i,i+interval-1)], data_stft[randint(i,i+interval-1)]])\n",
        "      label_temp.append(1)\n",
        "\n",
        "    for i in range(L):\n",
        "      if i==0:\n",
        "          temp.append([data_stft[randint(i,i+interval-1)],data_stft[randint(i+interval, rows-1)]])\n",
        "      elif i==(row_range-1):\n",
        "          temp.append([data_stft[randint(i,i+interval-1)],data_stft[randint(0, i-1)]])\n",
        "      else:\n",
        "          temp.append([data_stft[randint(i,i+interval-1)],data_stft[choice([randint(0, i-1),randint(i+interval, rows-1)])] ])\n",
        "      label_temp.append(0)\n",
        "\n",
        "    train_pairs.append(temp)\n",
        "    train_labels.append(label_temp)\n",
        "    \n",
        "    trn_pairs_arr = np.asarray(train_pairs)\n",
        "    trn_label_arr = np.asarray(train_labels)\n",
        "\n",
        "  print(\"Length of training pairs and labels for L=\", L, \"is:\", len(train_labels),\"and\", len(train_pairs))\n",
        "  return trn_pairs_arr, trn_label_arr"
      ],
      "execution_count": 0,
      "outputs": []
    },
    {
      "metadata": {
        "id": "F2bM3Ci2p45j",
        "colab_type": "code",
        "outputId": "44dfb2ca-08cb-4d3a-ba4b-00368a5f7ead",
        "colab": {
          "base_uri": "https://localhost:8080/",
          "height": 52
        }
      },
      "cell_type": "code",
      "source": [
        "trn_pairs_arr, trn_label_arr = data_prep(data_stft, trn_rows)\n",
        "tes_pairs_arr, tes_label_arr = data_prep(data_tes_stft, tes_rows)"
      ],
      "execution_count": 0,
      "outputs": [
        {
          "output_type": "stream",
          "text": [
            "Length of training pairs and labels for L= 20 is: 50 and 50\n",
            "Length of training pairs and labels for L= 20 is: 20 and 20\n"
          ],
          "name": "stdout"
        }
      ]
    },
    {
      "metadata": {
        "id": "iW2L_NivzNF4",
        "colab_type": "code",
        "outputId": "4acac140-b64e-41e4-81f3-1c752467198c",
        "colab": {
          "base_uri": "https://localhost:8080/",
          "height": 35
        }
      },
      "cell_type": "code",
      "source": [
        "print(data_stft.shape, data_tes_stft.shape)"
      ],
      "execution_count": 0,
      "outputs": [
        {
          "output_type": "stream",
          "text": [
            "(500, 45, 513) (200, 45, 513)\n"
          ],
          "name": "stdout"
        }
      ]
    },
    {
      "metadata": {
        "id": "wOlh2l1tJg83",
        "colab_type": "code",
        "outputId": "3697b583-dd6b-4cdc-b625-3524c902b23d",
        "colab": {
          "base_uri": "https://localhost:8080/",
          "height": 35
        }
      },
      "cell_type": "code",
      "source": [
        "print(trn_pairs_arr.shape, trn_label_arr.shape, tes_pairs_arr.shape, tes_label_arr.shape)"
      ],
      "execution_count": 0,
      "outputs": [
        {
          "output_type": "stream",
          "text": [
            "(50, 40, 2, 45, 513) (50, 40) (20, 40, 2, 45, 513) (20, 40)\n"
          ],
          "name": "stdout"
        }
      ]
    },
    {
      "metadata": {
        "id": "TGmf0KVSiozD",
        "colab_type": "text"
      },
      "cell_type": "markdown",
      "source": [
        "# Tensorflow Model for Siamese Network"
      ]
    },
    {
      "metadata": {
        "id": "3Uj9gf9gZtUa",
        "colab_type": "code",
        "colab": {}
      },
      "cell_type": "code",
      "source": [
        "pred_left_placeholder = tf.placeholder(tf.float32, [40, 45, 513])\n",
        "pred_right_placeholder = tf.placeholder(tf.float32,[40, 45, 513])\n",
        "\n",
        "response_placeholder = tf.placeholder(tf.float32, [40])"
      ],
      "execution_count": 0,
      "outputs": []
    },
    {
      "metadata": {
        "id": "u9LDkFkaOUcP",
        "colab_type": "code",
        "colab": {}
      },
      "cell_type": "code",
      "source": [
        "def train_network(predictor_placeholder):\n",
        "  input_layer = tf.reshape(predictor_placeholder,[40, 45, 513, 1])\n",
        "  conv1 = tf.layers.conv2d(inputs=input_layer, filters=16,kernel_size=[4,4],activation=tf.nn.relu,padding='same')\n",
        "  pool1 = tf.layers.max_pooling2d(inputs=conv1, pool_size=[2,2],strides=[2,2],padding=\"same\")\n",
        "  conv2 = tf.layers.conv2d(inputs=pool1, filters=32,kernel_size=[2,2],activation=tf.nn.relu,padding='same')]\n",
        "  pool2 = tf.layers.max_pooling2d(inputs=conv2, pool_size=[2,2],strides=[2,2],padding='same')\n",
        "  flatten_layer = tf.layers.flatten(pool2)\n",
        "  dense = tf.layers.dense(inputs=flatten_layer, units=513,activation=tf.nn.tanh)\n",
        "  dt_bound = tf.layers.dense(inputs=dense, units = 513)\n",
        "  dropout = tf.layers.dropout(inputs = dt_bound, rate = 0.8)\n",
        "  return dropout"
      ],
      "execution_count": 0,
      "outputs": []
    },
    {
      "metadata": {
        "id": "ckrl3EvkUoId",
        "colab_type": "code",
        "colab": {}
      },
      "cell_type": "code",
      "source": [
        "with tf.variable_scope(\"model\"):\n",
        "  output_left = train_network(pred_left_placeholder)\n",
        "with tf.variable_scope(\"model\", reuse=True):\n",
        "  output_right = train_network(pred_right_placeholder)"
      ],
      "execution_count": 0,
      "outputs": []
    },
    {
      "metadata": {
        "id": "-vM8TN1Qf5oR",
        "colab_type": "code",
        "outputId": "81f20997-b1b5-4ca7-c63d-56463513a1f8",
        "colab": {
          "base_uri": "https://localhost:8080/",
          "height": 35
        }
      },
      "cell_type": "code",
      "source": [
        "print(output_left.shape, output_right.shape)"
      ],
      "execution_count": 0,
      "outputs": [
        {
          "output_type": "stream",
          "text": [
            "(40, 513) (40, 513)\n"
          ],
          "name": "stdout"
        }
      ]
    },
    {
      "metadata": {
        "id": "ZNgDnjkqW7wL",
        "colab_type": "code",
        "colab": {}
      },
      "cell_type": "code",
      "source": [
        "eucd2 = tf.pow(tf.subtract(output_left, output_right), 2)\n",
        "eucd2 = tf.reduce_sum(eucd2, 1)\n",
        "inner_prod = tf.sqrt(eucd2+1e-6, name=\"eucd\")"
      ],
      "execution_count": 0,
      "outputs": []
    },
    {
      "metadata": {
        "id": "8r8R7zCibZ1c",
        "colab_type": "code",
        "outputId": "c9e0dfdb-9b20-488e-8466-1460b9b3dbc1",
        "colab": {
          "base_uri": "https://localhost:8080/",
          "height": 35
        }
      },
      "cell_type": "code",
      "source": [
        "sigmoid = tf.sigmoid(inner_prod)\n",
        "sigmoid.shape"
      ],
      "execution_count": 0,
      "outputs": [
        {
          "output_type": "execute_result",
          "data": {
            "text/plain": [
              "TensorShape([Dimension(40)])"
            ]
          },
          "metadata": {
            "tags": []
          },
          "execution_count": 14
        }
      ]
    },
    {
      "metadata": {
        "id": "VQFFgr248NGV",
        "colab_type": "code",
        "colab": {}
      },
      "cell_type": "code",
      "source": [
        "def contrastive_loss(y_true, y_pred):\n",
        "    error=tf.reduce_sum(-(tf.to_float(y_true))*tf.log(y_pred + (10**-6)) - (1 - tf.to_float(y_true)) * tf.log(1 - y_pred + (10**-6)))\n",
        "    return error"
      ],
      "execution_count": 0,
      "outputs": []
    },
    {
      "metadata": {
        "id": "DGHAUPPl7WiH",
        "colab_type": "code",
        "outputId": "8511bf8a-d13c-451c-a5fb-67f42639daa4",
        "colab": {
          "base_uri": "https://localhost:8080/",
          "height": 90
        }
      },
      "cell_type": "code",
      "source": [
        "alpha = 0.000001\n",
        "epoch =500\n",
        "\n",
        "contrastive_error = contrastive_loss(response_placeholder,sigmoid)"
      ],
      "execution_count": 0,
      "outputs": [
        {
          "output_type": "stream",
          "text": [
            "WARNING:tensorflow:From <ipython-input-15-aa9c9d40239f>:2: to_float (from tensorflow.python.ops.math_ops) is deprecated and will be removed in a future version.\n",
            "Instructions for updating:\n",
            "Use tf.cast instead.\n"
          ],
          "name": "stdout"
        }
      ]
    },
    {
      "metadata": {
        "id": "10F52xWrGkh5",
        "colab_type": "code",
        "outputId": "6bd80e91-0acd-4c05-a5a7-487b77494741",
        "colab": {
          "base_uri": "https://localhost:8080/",
          "height": 158
        }
      },
      "cell_type": "code",
      "source": [
        "tf.trainable_variables()"
      ],
      "execution_count": 0,
      "outputs": [
        {
          "output_type": "execute_result",
          "data": {
            "text/plain": [
              "[<tf.Variable 'model/conv2d/kernel:0' shape=(4, 4, 1, 16) dtype=float32_ref>,\n",
              " <tf.Variable 'model/conv2d/bias:0' shape=(16,) dtype=float32_ref>,\n",
              " <tf.Variable 'model/conv2d_1/kernel:0' shape=(2, 2, 16, 32) dtype=float32_ref>,\n",
              " <tf.Variable 'model/conv2d_1/bias:0' shape=(32,) dtype=float32_ref>,\n",
              " <tf.Variable 'model/dense/kernel:0' shape=(49536, 513) dtype=float32_ref>,\n",
              " <tf.Variable 'model/dense/bias:0' shape=(513,) dtype=float32_ref>,\n",
              " <tf.Variable 'model/dense_1/kernel:0' shape=(513, 513) dtype=float32_ref>,\n",
              " <tf.Variable 'model/dense_1/bias:0' shape=(513,) dtype=float32_ref>]"
            ]
          },
          "metadata": {
            "tags": []
          },
          "execution_count": 17
        }
      ]
    },
    {
      "metadata": {
        "id": "UHFUCCV8BDTn",
        "colab_type": "code",
        "outputId": "4e2466c6-fb60-45bf-9d8c-e4f27be95680",
        "colab": {
          "base_uri": "https://localhost:8080/",
          "height": 90
        }
      },
      "cell_type": "code",
      "source": [
        "optimiser = tf.train.AdamOptimizer(learning_rate=alpha).minimize(contrastive_error)"
      ],
      "execution_count": 0,
      "outputs": [
        {
          "output_type": "stream",
          "text": [
            "WARNING:tensorflow:From /usr/local/lib/python3.6/dist-packages/tensorflow/python/ops/math_ops.py:3066: to_int32 (from tensorflow.python.ops.math_ops) is deprecated and will be removed in a future version.\n",
            "Instructions for updating:\n",
            "Use tf.cast instead.\n"
          ],
          "name": "stdout"
        }
      ]
    },
    {
      "metadata": {
        "id": "kZQ0CxjPkZ3p",
        "colab_type": "text"
      },
      "cell_type": "markdown",
      "source": [
        "# Training the model"
      ]
    },
    {
      "metadata": {
        "id": "89UdbR2R9GaO",
        "colab_type": "code",
        "colab": {}
      },
      "cell_type": "code",
      "source": [
        "#initialization\n",
        "init_op = tf.global_variables_initializer()"
      ],
      "execution_count": 0,
      "outputs": []
    },
    {
      "metadata": {
        "id": "dURbQX449HtA",
        "colab_type": "code",
        "outputId": "26d930a5-2b54-4d7e-ca78-bd1b9fa8f896",
        "colab": {
          "base_uri": "https://localhost:8080/",
          "height": 897
        }
      },
      "cell_type": "code",
      "source": [
        "sess=tf.Session()\n",
        "sess.run(init_op)\n",
        "\n",
        "for ep in range(epoch):\n",
        "  for i in range(50):\n",
        "    minibatch = trn_pairs_arr[i]\n",
        "    minibatch_label = trn_label_arr[i]\n",
        "    _, c  = sess.run([optimiser, contrastive_error], feed_dict={pred_left_placeholder: minibatch[:,0,:,:], pred_right_placeholder: minibatch[:,1,:,:], response_placeholder: minibatch_label})\n",
        "  if ep%10 == 0:\n",
        "    print(\"Epoch:\", (ep + 1), \"cost =\", c )"
      ],
      "execution_count": 0,
      "outputs": [
        {
          "output_type": "stream",
          "text": [
            "Epoch: 1 cost = 130.73016\n",
            "Epoch: 11 cost = 54.14184\n",
            "Epoch: 21 cost = 36.4458\n",
            "Epoch: 31 cost = 29.943949\n",
            "Epoch: 41 cost = 26.38283\n",
            "Epoch: 51 cost = 24.171864\n",
            "Epoch: 61 cost = 22.794044\n",
            "Epoch: 71 cost = 21.9437\n",
            "Epoch: 81 cost = 21.421947\n",
            "Epoch: 91 cost = 21.101414\n",
            "Epoch: 101 cost = 20.89481\n",
            "Epoch: 111 cost = 20.747108\n",
            "Epoch: 121 cost = 20.629436\n",
            "Epoch: 131 cost = 20.528507\n",
            "Epoch: 141 cost = 20.439484\n",
            "Epoch: 151 cost = 20.36015\n",
            "Epoch: 161 cost = 20.290052\n",
            "Epoch: 171 cost = 20.228945\n",
            "Epoch: 181 cost = 20.176321\n",
            "Epoch: 191 cost = 20.131243\n",
            "Epoch: 201 cost = 20.092714\n",
            "Epoch: 211 cost = 20.059872\n",
            "Epoch: 221 cost = 20.031548\n",
            "Epoch: 231 cost = 20.006935\n",
            "Epoch: 241 cost = 19.98536\n",
            "Epoch: 251 cost = 19.966288\n",
            "Epoch: 261 cost = 19.949888\n",
            "Epoch: 271 cost = 19.935284\n",
            "Epoch: 281 cost = 19.922302\n",
            "Epoch: 291 cost = 19.910564\n",
            "Epoch: 301 cost = 19.899853\n",
            "Epoch: 311 cost = 19.890013\n",
            "Epoch: 321 cost = 19.880949\n",
            "Epoch: 331 cost = 19.872519\n",
            "Epoch: 341 cost = 19.864626\n",
            "Epoch: 351 cost = 19.857147\n",
            "Epoch: 361 cost = 19.850079\n",
            "Epoch: 371 cost = 19.843477\n",
            "Epoch: 381 cost = 19.837725\n",
            "Epoch: 391 cost = 19.831356\n",
            "Epoch: 401 cost = 19.824234\n",
            "Epoch: 411 cost = 19.817844\n",
            "Epoch: 421 cost = 19.813354\n",
            "Epoch: 431 cost = 19.808826\n",
            "Epoch: 441 cost = 19.803629\n",
            "Epoch: 451 cost = 19.798813\n",
            "Epoch: 461 cost = 19.794308\n",
            "Epoch: 471 cost = 19.787937\n",
            "Epoch: 481 cost = 19.78256\n",
            "Epoch: 491 cost = 19.779102\n"
          ],
          "name": "stdout"
        }
      ]
    },
    {
      "metadata": {
        "id": "BhU1cEVPp99L",
        "colab_type": "code",
        "colab": {}
      },
      "cell_type": "code",
      "source": [
        "output = []\n",
        "sig = []\n",
        "for i in range(20):\n",
        "  minibatch = tes_pairs_arr[i]\n",
        "  minibatch_label = tes_label_arr[i]\n",
        "  _,c, sig = sess.run([optimiser, contrastive_error, sigmoid], feed_dict={pred_left_placeholder: minibatch[:,0,:,:], \n",
        "                                                                          pred_right_placeholder: minibatch[:,1,:,:], \n",
        "                                                                          response_placeholder: minibatch_label})\n",
        "  output.append(sig)"
      ],
      "execution_count": 0,
      "outputs": []
    },
    {
      "metadata": {
        "id": "X4qHleRk_lSf",
        "colab_type": "code",
        "colab": {}
      },
      "cell_type": "code",
      "source": [
        "#using sigmoid value 0.65 as decision boundary\n",
        "output = np.asarray(output)\n",
        "for i in range(20):\n",
        "  for j in range(40):\n",
        "    if output[i,j] < 0.65: \n",
        "      output[i,j] = int(0)\n",
        "    else: \n",
        "      output[i,j] = int(1)\n",
        "      \n",
        "output = np.asarray(output, dtype = int)"
      ],
      "execution_count": 0,
      "outputs": []
    },
    {
      "metadata": {
        "id": "KGK_AoK_IKMh",
        "colab_type": "code",
        "outputId": "da5d4ba2-4f3f-4b92-983a-bef0fb47d896",
        "colab": {
          "base_uri": "https://localhost:8080/",
          "height": 35
        }
      },
      "cell_type": "code",
      "source": [
        "count = 0\n",
        "for i in range(20):\n",
        "  for j in range(40):\n",
        "    if output[i,j] == tes_label_arr[i,j]:\n",
        "      count = count + 1\n",
        "\n",
        "print(\"Accuracy:\",count/800)"
      ],
      "execution_count": 0,
      "outputs": [
        {
          "output_type": "stream",
          "text": [
            "Accuracy: 0.65125\n"
          ],
          "name": "stdout"
        }
      ]
    }
  ]
}